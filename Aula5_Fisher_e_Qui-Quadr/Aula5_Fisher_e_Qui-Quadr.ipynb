{
 "cells": [
  {
   "cell_type": "markdown",
   "metadata": {
    "deletable": true,
    "editable": true
   },
   "source": [
    "# Testes de associação"
   ]
  },
  {
   "cell_type": "markdown",
   "metadata": {
    "deletable": true,
    "editable": true
   },
   "source": [
    "Os testes de associação de frequencia servem para a validação de dados de contagem, observando-se se há probabilidade de associação entre k > ou = a 2 categorias. \n",
    "\n",
    "Três proveitos podem ser tirados (Kirk 2008): 1) a qualidade do ajuste entre categorias internas das variáveis; 2) a independência entre categorias internas das variáveis; 3) igualdade e homogeneidade das proporções de categorias entre duas variáveis. "
   ]
  },
  {
   "cell_type": "markdown",
   "metadata": {
    "deletable": true,
    "editable": true
   },
   "source": [
    "### 1. Estrutura dos testes de hipótese:"
   ]
  },
  {
   "cell_type": "markdown",
   "metadata": {
    "deletable": true,
    "editable": true
   },
   "source": [
    "H0: =\n",
    "\n",
    "supondo-se aleatoriedade, quando o teste é internamente efetuado em uma variável/amostra (e menos gl), aceita-se H0 quando as categorias estão ajustadas, quando elas tem aproximada probabilidade de ocorrência e não demonstram independência; quando + variáveis/amostras (e + gl, por consequencia), significa que há aproximada probabilidade de igualdade de proproções (quando variáveis bicategóricas) ou de homogeneidade de proporções (quando multicategórica).\n",
    "\n",
    "\n",
    "\n",
    "H1: ≠ \n",
    "\n",
    "supondo-se aleatoriedade, quando o teste é internamente efetuado em uma variável/amostra (e menos gl), aceita-se H1 quando as categorias não estão ajustadas, quando elas não tem aproximada probabilidade de ocorrência e demonstram independência; quando variáveis/amostras (e + gl, por consequencia), significa que não há aproximada probabilidade de igualdade de proproções (quando variáveis bicategóricas) ou de homogeneidade de proporções (quando multicategórica).\n",
    "\n",
    "\n",
    "\n",
    "IMPORTANTE: Olhar para a TABELA DE CONTINGÊNCIA (as relações entre AS COLUNAS, o que é calculado de fato) para verificar se há = ou ≠ e pensar nas hipóteses."
   ]
  },
  {
   "cell_type": "markdown",
   "metadata": {
    "deletable": true,
    "editable": true
   },
   "source": [
    "### 2. Teste exato de Fisher"
   ]
  },
  {
   "cell_type": "markdown",
   "metadata": {
    "deletable": true,
    "editable": true
   },
   "source": [
    "Teste adequado para análises em tabelas 2x2, com duas variáveis com categorias binárias e número de resultados < 30. Exemplo do processo de análise na tabela:"
   ]
  },
  {
   "cell_type": "code",
   "execution_count": 10,
   "metadata": {
    "collapsed": false,
    "deletable": true,
    "editable": true
   },
   "outputs": [
    {
     "data": {
      "text/html": [
       "<table>\n",
       "<thead><tr><th scope=col>c..A....C....A...C..</th><th scope=col>c..B....D....B...D..</th><th scope=col>c..A...B....C...D....A...B...C...D..</th></tr></thead>\n",
       "<tbody>\n",
       "\t<tr><td>A            </td><td>B            </td><td>A + B        </td></tr>\n",
       "\t<tr><td>C            </td><td>D            </td><td>C + D        </td></tr>\n",
       "\t<tr><td>A + C        </td><td>B + D        </td><td>A + B + C + D</td></tr>\n",
       "</tbody>\n",
       "</table>\n"
      ],
      "text/latex": [
       "\\begin{tabular}{r|lll}\n",
       " c..A....C....A...C.. & c..B....D....B...D.. & c..A...B....C...D....A...B...C...D..\\\\\n",
       "\\hline\n",
       "\t A             & B             & A + B        \\\\\n",
       "\t C             & D             & C + D        \\\\\n",
       "\t A + C         & B + D         & A + B + C + D\\\\\n",
       "\\end{tabular}\n"
      ],
      "text/markdown": [
       "\n",
       "c..A....C....A...C.. | c..B....D....B...D.. | c..A...B....C...D....A...B...C...D.. | \n",
       "|---|---|---|\n",
       "| A             | B             | A + B         | \n",
       "| C             | D             | C + D         | \n",
       "| A + C         | B + D         | A + B + C + D | \n",
       "\n",
       "\n"
      ],
      "text/plain": [
       "  c..A....C....A...C.. c..B....D....B...D..\n",
       "1 A                    B                   \n",
       "2 C                    D                   \n",
       "3 A + C                B + D               \n",
       "  c..A...B....C...D....A...B...C...D..\n",
       "1 A + B                               \n",
       "2 C + D                               \n",
       "3 A + B + C + D                       "
      ]
     },
     "metadata": {},
     "output_type": "display_data"
    }
   ],
   "source": [
    "tabela_de_fisher <- data.frame(c(\"A\", \"C\", \"A + C\"), c(\"B\", \"D\", \"B + D\"), c(\"A + B\", \"C + D\", \"A + B + C + D\"))\n",
    "\n",
    "tabela_de_fisher"
   ]
  },
  {
   "cell_type": "markdown",
   "metadata": {
    "deletable": true,
    "editable": true
   },
   "source": [
    "Exemplo de análise com dados 2x2 (elaboração rápida de simulação baseada no banco de dados da Roberta):"
   ]
  },
  {
   "cell_type": "code",
   "execution_count": 35,
   "metadata": {
    "collapsed": false,
    "deletable": true,
    "editable": true
   },
   "outputs": [
    {
     "data": {
      "text/html": [
       "<table>\n",
       "<thead><tr><th scope=col>X.orientação.....c.20..8.</th><th scope=col>X.voto.....c.20..8.</th></tr></thead>\n",
       "<tbody>\n",
       "\t<tr><td>20</td><td>20</td></tr>\n",
       "\t<tr><td> 8</td><td> 8</td></tr>\n",
       "</tbody>\n",
       "</table>\n"
      ],
      "text/latex": [
       "\\begin{tabular}{r|ll}\n",
       " X.orientação.....c.20..8. & X.voto.....c.20..8.\\\\\n",
       "\\hline\n",
       "\t 20 & 20\\\\\n",
       "\t  8 &  8\\\\\n",
       "\\end{tabular}\n"
      ],
      "text/markdown": [
       "\n",
       "X.orientação.....c.20..8. | X.voto.....c.20..8. | \n",
       "|---|---|\n",
       "| 20 | 20 | \n",
       "|  8 |  8 | \n",
       "\n",
       "\n"
      ],
      "text/plain": [
       "  X.orientação.....c.20..8. X.voto.....c.20..8.\n",
       "1 20                        20                 \n",
       "2  8                         8                 "
      ]
     },
     "metadata": {},
     "output_type": "display_data"
    },
    {
     "data": {
      "text/plain": [
       "\n",
       "\tFisher's Exact Test for Count Data\n",
       "\n",
       "data:  simul_parti_deput\n",
       "p-value = 1\n",
       "alternative hypothesis: true odds ratio is not equal to 1\n",
       "95 percent confidence interval:\n",
       " 0.2670199 3.7450387\n",
       "sample estimates:\n",
       "odds ratio \n",
       "         1 \n"
      ]
     },
     "metadata": {},
     "output_type": "display_data"
    }
   ],
   "source": [
    "#Simulação de orientação de voto de um partido (SIM/NÃO) e voto do parlamentar individualizado (SIM/NÃO) em um conjunto de 28 votações \n",
    "# (H0: possuem probabilidade de igualdade de proporções?)\n",
    "\n",
    "# Associadas com similar probabilidade de ocorrência:\n",
    "simul_parti_deput <- data.frame(\"orientação\" <- c(20, 8), \"voto\" <- c(20, 8)) \n",
    "simul_parti_deput\n",
    "fisher.test(simul_parti_deput)\n",
    "\n"
   ]
  },
  {
   "cell_type": "code",
   "execution_count": 65,
   "metadata": {
    "collapsed": false,
    "deletable": true,
    "editable": true
   },
   "outputs": [
    {
     "data": {
      "text/html": [
       "<table>\n",
       "<thead><tr><th scope=col>X.orientação.....c.20..8.</th><th scope=col>X.voto.....c.10..16.</th></tr></thead>\n",
       "<tbody>\n",
       "\t<tr><td>20</td><td>10</td></tr>\n",
       "\t<tr><td> 8</td><td>16</td></tr>\n",
       "</tbody>\n",
       "</table>\n"
      ],
      "text/latex": [
       "\\begin{tabular}{r|ll}\n",
       " X.orientação.....c.20..8. & X.voto.....c.10..16.\\\\\n",
       "\\hline\n",
       "\t 20 & 10\\\\\n",
       "\t  8 & 16\\\\\n",
       "\\end{tabular}\n"
      ],
      "text/markdown": [
       "\n",
       "X.orientação.....c.20..8. | X.voto.....c.10..16. | \n",
       "|---|---|\n",
       "| 20 | 10 | \n",
       "|  8 | 16 | \n",
       "\n",
       "\n"
      ],
      "text/plain": [
       "  X.orientação.....c.20..8. X.voto.....c.10..16.\n",
       "1 20                        10                  \n",
       "2  8                        16                  "
      ]
     },
     "metadata": {},
     "output_type": "display_data"
    },
    {
     "data": {
      "text/plain": [
       "\n",
       "\tFisher's Exact Test for Count Data\n",
       "\n",
       "data:  simul_parti_deput\n",
       "p-value = 0.02746\n",
       "alternative hypothesis: true odds ratio is not equal to 1\n",
       "95 percent confidence interval:\n",
       "  1.122006 14.643502\n",
       "sample estimates:\n",
       "odds ratio \n",
       "  3.890836 \n"
      ]
     },
     "metadata": {},
     "output_type": "display_data"
    }
   ],
   "source": [
    "# Sem associação:\n",
    "simul_parti_deput <- data.frame(\"orientação\" <- c(20, 8), \"voto\" <- c(10, 16)) \n",
    "simul_parti_deput\n",
    "fisher.test(simul_parti_deput)\n"
   ]
  },
  {
   "cell_type": "markdown",
   "metadata": {
    "deletable": true,
    "editable": true
   },
   "source": [
    "### 3. Teste Qui-Quadrado "
   ]
  },
  {
   "cell_type": "markdown",
   "metadata": {
    "deletable": true,
    "editable": true
   },
   "source": [
    "Teste adequado para análises em tabelas > 2x2, com duas variáveis com categorias binárias ou mais (até 30) e número de resultados > 30 (com número de resultados menor do que 10 aproxima-se no teste exato de Fisher e precisa de correção de Yates, presente na base do R). A base da estatística é 1) soma das amostras/variáveis(ou categorias que \"viraram variáveis\" e 2) o somatório de 2.1) subtração de valores observados por esperados que é dividido por 2.2) valores esperados. "
   ]
  },
  {
   "cell_type": "code",
   "execution_count": 66,
   "metadata": {
    "collapsed": false
   },
   "outputs": [
    {
     "data": {
      "text/html": [
       "<ol class=list-inline>\n",
       "\t<li>1.01733881556869</li>\n",
       "\t<li>0.428489691680956</li>\n",
       "\t<li>4.8052832774581</li>\n",
       "\t<li>0.219991710057549</li>\n",
       "\t<li>0.0466424062469733</li>\n",
       "\t<li>1.04685927635871</li>\n",
       "\t<li>3.29600591866797</li>\n",
       "\t<li>0.644537868670162</li>\n",
       "\t<li>0.271326265903652</li>\n",
       "\t<li>0.339707585175802</li>\n",
       "\t<li>1.3100886125932</li>\n",
       "\t<li>1.41350437698779</li>\n",
       "\t<li>1.22441347095104</li>\n",
       "\t<li>2.36020128849202</li>\n",
       "\t<li>0.926474021105881</li>\n",
       "</ol>\n"
      ],
      "text/latex": [
       "\\begin{enumerate*}\n",
       "\\item 1.01733881556869\n",
       "\\item 0.428489691680956\n",
       "\\item 4.8052832774581\n",
       "\\item 0.219991710057549\n",
       "\\item 0.0466424062469733\n",
       "\\item 1.04685927635871\n",
       "\\item 3.29600591866797\n",
       "\\item 0.644537868670162\n",
       "\\item 0.271326265903652\n",
       "\\item 0.339707585175802\n",
       "\\item 1.3100886125932\n",
       "\\item 1.41350437698779\n",
       "\\item 1.22441347095104\n",
       "\\item 2.36020128849202\n",
       "\\item 0.926474021105881\n",
       "\\end{enumerate*}\n"
      ],
      "text/markdown": [
       "1. 1.01733881556869\n",
       "2. 0.428489691680956\n",
       "3. 4.8052832774581\n",
       "4. 0.219991710057549\n",
       "5. 0.0466424062469733\n",
       "6. 1.04685927635871\n",
       "7. 3.29600591866797\n",
       "8. 0.644537868670162\n",
       "9. 0.271326265903652\n",
       "10. 0.339707585175802\n",
       "11. 1.3100886125932\n",
       "12. 1.41350437698779\n",
       "13. 1.22441347095104\n",
       "14. 2.36020128849202\n",
       "15. 0.926474021105881\n",
       "\n",
       "\n"
      ],
      "text/plain": [
       " [1] 1.01733882 0.42848969 4.80528328 0.21999171 0.04664241 1.04685928\n",
       " [7] 3.29600592 0.64453787 0.27132627 0.33970759 1.31008861 1.41350438\n",
       "[13] 1.22441347 2.36020129 0.92647402"
      ]
     },
     "metadata": {},
     "output_type": "display_data"
    },
    {
     "data": {
      "image/png": "[encoded data removed]",
      "text/plain": [
       "plot without title"
      ]
     },
     "metadata": {},
     "output_type": "display_data"
    }
   ],
   "source": [
    "# distribuição qui-quad de números aleatórios (de 0 a 20) e graus de liberdade = 2 (mostrar o q acontece quando infla os GL/DF)\n",
    "\n",
    "rchisq(15, 2)\n",
    "\n",
    "curve(dchisq(x, df = 2), from = 0, to = 15)"
   ]
  },
  {
   "cell_type": "code",
   "execution_count": 58,
   "metadata": {
    "collapsed": false,
    "deletable": true,
    "editable": true
   },
   "outputs": [
    {
     "name": "stderr",
     "output_type": "stream",
     "text": [
      "Parsed with column specification:\n",
      "cols(\n",
      "  idVotacao_origem = col_character(),\n",
      "  voto_dep1 = col_character(),\n",
      "  voto_dep2 = col_character(),\n",
      "  orientacao_part1 = col_character(),\n",
      "  orientacao_part2 = col_character()\n",
      ")\n"
     ]
    },
    {
     "data": {
      "text/html": [
       "<table>\n",
       "<thead><tr><th scope=col>idVotacao_origem</th><th scope=col>voto_dep1</th><th scope=col>voto_dep2</th><th scope=col>orientacao_part1</th><th scope=col>orientacao_part2</th></tr></thead>\n",
       "<tbody>\n",
       "\t<tr><td>2192459-668</td><td>Sim        </td><td>Sim        </td><td>Sim        </td><td>Sim        </td></tr>\n",
       "\t<tr><td>2192459-696</td><td>Sim        </td><td>Sim        </td><td>Sim        </td><td>Sim        </td></tr>\n",
       "\t<tr><td>2192459-734</td><td>Sim        </td><td>Sim        </td><td>Sim        </td><td>Sim        </td></tr>\n",
       "\t<tr><td>2192459-810</td><td>Sim        </td><td>Sim        </td><td>Sim        </td><td>Sim        </td></tr>\n",
       "\t<tr><td>2192459-640</td><td>Sim        </td><td>Sim        </td><td>Nao        </td><td>Sim        </td></tr>\n",
       "\t<tr><td>2192459-692</td><td>Sim        </td><td>Sim        </td><td>Nao        </td><td>Sim        </td></tr>\n",
       "\t<tr><td>2192459-763</td><td>Sim        </td><td>Sim        </td><td>Sim        </td><td>Obstrucao  </td></tr>\n",
       "\t<tr><td>2192459-619</td><td>Sim        </td><td>Nao        </td><td>Nao        </td><td>Obstrucao  </td></tr>\n",
       "\t<tr><td>2192459-601</td><td>Sim        </td><td>Sim        </td><td>Sim        </td><td>Nao        </td></tr>\n",
       "\t<tr><td>2192459-636</td><td>Sim        </td><td>Sim        </td><td>Sim        </td><td>Nao        </td></tr>\n",
       "\t<tr><td>2192459-665</td><td>Sim        </td><td>Sim        </td><td>Sim        </td><td>Nao        </td></tr>\n",
       "\t<tr><td>2192459-727</td><td>Sim        </td><td>Sim        </td><td>Sim        </td><td>Nao        </td></tr>\n",
       "\t<tr><td>2192459-730</td><td>Sim        </td><td>Sim        </td><td>Sim        </td><td>Nao        </td></tr>\n",
       "\t<tr><td>2192459-786</td><td>Sim        </td><td>Sim        </td><td>Sim        </td><td>Nao        </td></tr>\n",
       "\t<tr><td>2192459-807</td><td>Sim        </td><td>Sim        </td><td>Sim        </td><td>Nao        </td></tr>\n",
       "\t<tr><td>2192459-819</td><td>Sim        </td><td>Sim        </td><td>Sim        </td><td>Nao        </td></tr>\n",
       "\t<tr><td>2192459-588</td><td>Nao        </td><td>Nao        </td><td>Nao        </td><td>Sim        </td></tr>\n",
       "\t<tr><td>2192459-612</td><td>Nao        </td><td>Nao        </td><td>Nao        </td><td>Sim        </td></tr>\n",
       "\t<tr><td>2192459-625</td><td>Nao        </td><td>Nao        </td><td>Nao        </td><td>Sim        </td></tr>\n",
       "\t<tr><td>2192459-646</td><td>Nao        </td><td>Nao        </td><td>Nao        </td><td>Sim        </td></tr>\n",
       "\t<tr><td>2192459-662</td><td>Nao        </td><td>Nao        </td><td>Nao        </td><td>Sim        </td></tr>\n",
       "\t<tr><td>2192459-772</td><td>Nao        </td><td>Nao        </td><td>Nao        </td><td>Obstrucao  </td></tr>\n",
       "\t<tr><td>2192459-775</td><td>Nao        </td><td>Nao        </td><td>Nao        </td><td>Obstrucao  </td></tr>\n",
       "\t<tr><td>2192459-781</td><td>Nao        </td><td>Nao        </td><td>Nao        </td><td>Obstrucao  </td></tr>\n",
       "\t<tr><td>2192459-794</td><td>Nao        </td><td>Nao        </td><td>Nao        </td><td>Obstrucao  </td></tr>\n",
       "\t<tr><td>2192459-616</td><td>Nao        </td><td>Sim        </td><td>Sim        </td><td>Nao        </td></tr>\n",
       "\t<tr><td>2192459-724</td><td>Nao        </td><td>Sim        </td><td>Sim        </td><td>Nao        </td></tr>\n",
       "\t<tr><td>2192459-804</td><td>Nao        </td><td>Sim        </td><td>Sim        </td><td>Nao        </td></tr>\n",
       "\t<tr><td>2192459-813</td><td>Nao        </td><td>Sim        </td><td>Sim        </td><td>Nao        </td></tr>\n",
       "\t<tr><td>2192459-653</td><td>Nao        </td><td>Nao        </td><td>Sim        </td><td>Nao        </td></tr>\n",
       "\t<tr><td>2192459-657</td><td>Nao        </td><td>Nao        </td><td>Sim        </td><td>Nao        </td></tr>\n",
       "\t<tr><td>2192459-795</td><td>Nao        </td><td>Nao        </td><td>Sim        </td><td>Nao        </td></tr>\n",
       "\t<tr><td>2192459-798</td><td>Nao        </td><td>Nao        </td><td>Sim        </td><td>Nao        </td></tr>\n",
       "\t<tr><td>2192459-816</td><td>Nao        </td><td>Nao        </td><td>Sim        </td><td>Nao        </td></tr>\n",
       "\t<tr><td>2192459-704</td><td>Nao        </td><td>Nao        </td><td>Nao        </td><td>Nao        </td></tr>\n",
       "\t<tr><td>2192459-649</td><td>Abstencao  </td><td>Nao        </td><td>Sim        </td><td>Nao        </td></tr>\n",
       "</tbody>\n",
       "</table>\n"
      ],
      "text/latex": [
       "\\begin{tabular}{r|lllll}\n",
       " idVotacao\\_origem & voto\\_dep1 & voto\\_dep2 & orientacao\\_part1 & orientacao\\_part2\\\\\n",
       "\\hline\n",
       "\t 2192459-668 & Sim         & Sim         & Sim         & Sim        \\\\\n",
       "\t 2192459-696 & Sim         & Sim         & Sim         & Sim        \\\\\n",
       "\t 2192459-734 & Sim         & Sim         & Sim         & Sim        \\\\\n",
       "\t 2192459-810 & Sim         & Sim         & Sim         & Sim        \\\\\n",
       "\t 2192459-640 & Sim         & Sim         & Nao         & Sim        \\\\\n",
       "\t 2192459-692 & Sim         & Sim         & Nao         & Sim        \\\\\n",
       "\t 2192459-763 & Sim         & Sim         & Sim         & Obstrucao  \\\\\n",
       "\t 2192459-619 & Sim         & Nao         & Nao         & Obstrucao  \\\\\n",
       "\t 2192459-601 & Sim         & Sim         & Sim         & Nao        \\\\\n",
       "\t 2192459-636 & Sim         & Sim         & Sim         & Nao        \\\\\n",
       "\t 2192459-665 & Sim         & Sim         & Sim         & Nao        \\\\\n",
       "\t 2192459-727 & Sim         & Sim         & Sim         & Nao        \\\\\n",
       "\t 2192459-730 & Sim         & Sim         & Sim         & Nao        \\\\\n",
       "\t 2192459-786 & Sim         & Sim         & Sim         & Nao        \\\\\n",
       "\t 2192459-807 & Sim         & Sim         & Sim         & Nao        \\\\\n",
       "\t 2192459-819 & Sim         & Sim         & Sim         & Nao        \\\\\n",
       "\t 2192459-588 & Nao         & Nao         & Nao         & Sim        \\\\\n",
       "\t 2192459-612 & Nao         & Nao         & Nao         & Sim        \\\\\n",
       "\t 2192459-625 & Nao         & Nao         & Nao         & Sim        \\\\\n",
       "\t 2192459-646 & Nao         & Nao         & Nao         & Sim        \\\\\n",
       "\t 2192459-662 & Nao         & Nao         & Nao         & Sim        \\\\\n",
       "\t 2192459-772 & Nao         & Nao         & Nao         & Obstrucao  \\\\\n",
       "\t 2192459-775 & Nao         & Nao         & Nao         & Obstrucao  \\\\\n",
       "\t 2192459-781 & Nao         & Nao         & Nao         & Obstrucao  \\\\\n",
       "\t 2192459-794 & Nao         & Nao         & Nao         & Obstrucao  \\\\\n",
       "\t 2192459-616 & Nao         & Sim         & Sim         & Nao        \\\\\n",
       "\t 2192459-724 & Nao         & Sim         & Sim         & Nao        \\\\\n",
       "\t 2192459-804 & Nao         & Sim         & Sim         & Nao        \\\\\n",
       "\t 2192459-813 & Nao         & Sim         & Sim         & Nao        \\\\\n",
       "\t 2192459-653 & Nao         & Nao         & Sim         & Nao        \\\\\n",
       "\t 2192459-657 & Nao         & Nao         & Sim         & Nao        \\\\\n",
       "\t 2192459-795 & Nao         & Nao         & Sim         & Nao        \\\\\n",
       "\t 2192459-798 & Nao         & Nao         & Sim         & Nao        \\\\\n",
       "\t 2192459-816 & Nao         & Nao         & Sim         & Nao        \\\\\n",
       "\t 2192459-704 & Nao         & Nao         & Nao         & Nao        \\\\\n",
       "\t 2192459-649 & Abstencao   & Nao         & Sim         & Nao        \\\\\n",
       "\\end{tabular}\n"
      ],
      "text/markdown": [
       "\n",
       "idVotacao_origem | voto_dep1 | voto_dep2 | orientacao_part1 | orientacao_part2 | \n",
       "|---|---|---|---|---|---|---|---|---|---|---|---|---|---|---|---|---|---|---|---|---|---|---|---|---|---|---|---|---|---|---|---|---|---|---|---|\n",
       "| 2192459-668 | Sim         | Sim         | Sim         | Sim         | \n",
       "| 2192459-696 | Sim         | Sim         | Sim         | Sim         | \n",
       "| 2192459-734 | Sim         | Sim         | Sim         | Sim         | \n",
       "| 2192459-810 | Sim         | Sim         | Sim         | Sim         | \n",
       "| 2192459-640 | Sim         | Sim         | Nao         | Sim         | \n",
       "| 2192459-692 | Sim         | Sim         | Nao         | Sim         | \n",
       "| 2192459-763 | Sim         | Sim         | Sim         | Obstrucao   | \n",
       "| 2192459-619 | Sim         | Nao         | Nao         | Obstrucao   | \n",
       "| 2192459-601 | Sim         | Sim         | Sim         | Nao         | \n",
       "| 2192459-636 | Sim         | Sim         | Sim         | Nao         | \n",
       "| 2192459-665 | Sim         | Sim         | Sim         | Nao         | \n",
       "| 2192459-727 | Sim         | Sim         | Sim         | Nao         | \n",
       "| 2192459-730 | Sim         | Sim         | Sim         | Nao         | \n",
       "| 2192459-786 | Sim         | Sim         | Sim         | Nao         | \n",
       "| 2192459-807 | Sim         | Sim         | Sim         | Nao         | \n",
       "| 2192459-819 | Sim         | Sim         | Sim         | Nao         | \n",
       "| 2192459-588 | Nao         | Nao         | Nao         | Sim         | \n",
       "| 2192459-612 | Nao         | Nao         | Nao         | Sim         | \n",
       "| 2192459-625 | Nao         | Nao         | Nao         | Sim         | \n",
       "| 2192459-646 | Nao         | Nao         | Nao         | Sim         | \n",
       "| 2192459-662 | Nao         | Nao         | Nao         | Sim         | \n",
       "| 2192459-772 | Nao         | Nao         | Nao         | Obstrucao   | \n",
       "| 2192459-775 | Nao         | Nao         | Nao         | Obstrucao   | \n",
       "| 2192459-781 | Nao         | Nao         | Nao         | Obstrucao   | \n",
       "| 2192459-794 | Nao         | Nao         | Nao         | Obstrucao   | \n",
       "| 2192459-616 | Nao         | Sim         | Sim         | Nao         | \n",
       "| 2192459-724 | Nao         | Sim         | Sim         | Nao         | \n",
       "| 2192459-804 | Nao         | Sim         | Sim         | Nao         | \n",
       "| 2192459-813 | Nao         | Sim         | Sim         | Nao         | \n",
       "| 2192459-653 | Nao         | Nao         | Sim         | Nao         | \n",
       "| 2192459-657 | Nao         | Nao         | Sim         | Nao         | \n",
       "| 2192459-795 | Nao         | Nao         | Sim         | Nao         | \n",
       "| 2192459-798 | Nao         | Nao         | Sim         | Nao         | \n",
       "| 2192459-816 | Nao         | Nao         | Sim         | Nao         | \n",
       "| 2192459-704 | Nao         | Nao         | Nao         | Nao         | \n",
       "| 2192459-649 | Abstencao   | Nao         | Sim         | Nao         | \n",
       "\n",
       "\n"
      ],
      "text/plain": [
       "   idVotacao_origem voto_dep1 voto_dep2 orientacao_part1 orientacao_part2\n",
       "1  2192459-668      Sim       Sim       Sim              Sim             \n",
       "2  2192459-696      Sim       Sim       Sim              Sim             \n",
       "3  2192459-734      Sim       Sim       Sim              Sim             \n",
       "4  2192459-810      Sim       Sim       Sim              Sim             \n",
       "5  2192459-640      Sim       Sim       Nao              Sim             \n",
       "6  2192459-692      Sim       Sim       Nao              Sim             \n",
       "7  2192459-763      Sim       Sim       Sim              Obstrucao       \n",
       "8  2192459-619      Sim       Nao       Nao              Obstrucao       \n",
       "9  2192459-601      Sim       Sim       Sim              Nao             \n",
       "10 2192459-636      Sim       Sim       Sim              Nao             \n",
       "11 2192459-665      Sim       Sim       Sim              Nao             \n",
       "12 2192459-727      Sim       Sim       Sim              Nao             \n",
       "13 2192459-730      Sim       Sim       Sim              Nao             \n",
       "14 2192459-786      Sim       Sim       Sim              Nao             \n",
       "15 2192459-807      Sim       Sim       Sim              Nao             \n",
       "16 2192459-819      Sim       Sim       Sim              Nao             \n",
       "17 2192459-588      Nao       Nao       Nao              Sim             \n",
       "18 2192459-612      Nao       Nao       Nao              Sim             \n",
       "19 2192459-625      Nao       Nao       Nao              Sim             \n",
       "20 2192459-646      Nao       Nao       Nao              Sim             \n",
       "21 2192459-662      Nao       Nao       Nao              Sim             \n",
       "22 2192459-772      Nao       Nao       Nao              Obstrucao       \n",
       "23 2192459-775      Nao       Nao       Nao              Obstrucao       \n",
       "24 2192459-781      Nao       Nao       Nao              Obstrucao       \n",
       "25 2192459-794      Nao       Nao       Nao              Obstrucao       \n",
       "26 2192459-616      Nao       Sim       Sim              Nao             \n",
       "27 2192459-724      Nao       Sim       Sim              Nao             \n",
       "28 2192459-804      Nao       Sim       Sim              Nao             \n",
       "29 2192459-813      Nao       Sim       Sim              Nao             \n",
       "30 2192459-653      Nao       Nao       Sim              Nao             \n",
       "31 2192459-657      Nao       Nao       Sim              Nao             \n",
       "32 2192459-795      Nao       Nao       Sim              Nao             \n",
       "33 2192459-798      Nao       Nao       Sim              Nao             \n",
       "34 2192459-816      Nao       Nao       Sim              Nao             \n",
       "35 2192459-704      Nao       Nao       Nao              Nao             \n",
       "36 2192459-649      Abstencao Nao       Sim              Nao             "
      ]
     },
     "metadata": {},
     "output_type": "display_data"
    }
   ],
   "source": [
    "#\"BANQUINHO\"\n",
    "library(tidyverse)\n",
    "df_parti_deput <- read_csv(\"Aula5_votos_e_orientacoes.csv\")\n",
    "df_parti_deput"
   ]
  },
  {
   "cell_type": "markdown",
   "metadata": {
    "collapsed": true,
    "deletable": true,
    "editable": true
   },
   "source": [
    "Visualização da disposição das categorias:"
   ]
  },
  {
   "cell_type": "code",
   "execution_count": 59,
   "metadata": {
    "collapsed": false
   },
   "outputs": [
    {
     "data": {
      "text/plain": [
       "           \n",
       "            Nao Sim\n",
       "  Abstencao   1   0\n",
       "  Nao        15   4\n",
       "  Sim         1  15"
      ]
     },
     "metadata": {},
     "output_type": "display_data"
    }
   ],
   "source": [
    "cont_tab <- table(df_parti_deput$voto_dep1, df_parti_deput$voto_dep2)\n",
    "cont_tab \n",
    "\n"
   ]
  },
  {
   "cell_type": "markdown",
   "metadata": {},
   "source": [
    "Teste Qui-Quadrado (intepretar e modificar):"
   ]
  },
  {
   "cell_type": "code",
   "execution_count": 60,
   "metadata": {
    "collapsed": false
   },
   "outputs": [
    {
     "name": "stderr",
     "output_type": "stream",
     "text": [
      "Warning message in chisq.test(df_parti_deput$voto_dep1, df_parti_deput$voto_dep2, :\n",
      "“Chi-squared approximation may be incorrect”"
     ]
    },
    {
     "data": {
      "text/plain": [
       "\n",
       "\tPearson's Chi-squared test\n",
       "\n",
       "data:  df_parti_deput$voto_dep1 and df_parti_deput$voto_dep2\n",
       "X-squared = 19.568, df = 2, p-value = 5.635e-05\n"
      ]
     },
     "metadata": {},
     "output_type": "display_data"
    }
   ],
   "source": [
    "chisq.test(df_parti_deput$voto_dep1, df_parti_deput$voto_dep2, correct=TRUE)"
   ]
  },
  {
   "cell_type": "code",
   "execution_count": null,
   "metadata": {
    "collapsed": true
   },
   "outputs": [],
   "source": []
  }
 ],
 "metadata": {
  "kernelspec": {
   "display_name": "R",
   "language": "R",
   "name": "ir"
  },
  "language_info": {
   "codemirror_mode": "r",
   "file_extension": ".r",
   "mimetype": "text/x-r-source",
   "name": "R",
   "pygments_lexer": "r",
   "version": "3.3.3"
  }
 },
 "nbformat": 4,
 "nbformat_minor": 2
}
