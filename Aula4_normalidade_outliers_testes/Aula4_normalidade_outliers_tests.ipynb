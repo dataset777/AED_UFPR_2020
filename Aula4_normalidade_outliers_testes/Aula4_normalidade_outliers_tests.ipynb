{
 "cells": [
  {
   "cell_type": "markdown",
   "metadata": {
    "deletable": true,
    "editable": true
   },
   "source": [
    "# Distribuição normal e testes de normalidade"
   ]
  },
  {
   "cell_type": "code",
   "execution_count": null,
   "metadata": {
    "collapsed": false,
    "deletable": true,
    "editable": true
   },
   "outputs": [],
   "source": [
    "library(car)\n",
    "library(tidyverse)"
   ]
  },
  {
   "cell_type": "markdown",
   "metadata": {
    "deletable": true,
    "editable": true
   },
   "source": [
    "1. Importância e fundamento das distribuições normais"
   ]
  },
  {
   "cell_type": "markdown",
   "metadata": {
    "deletable": true,
    "editable": true
   },
   "source": [
    "1.1 PQ USAR? \n",
    "\n",
    "Lei dos grandes números, Teorema do limite central e função gaussiana. "
   ]
  },
  {
   "cell_type": "code",
   "execution_count": null,
   "metadata": {
    "collapsed": false,
    "deletable": true,
    "editable": true
   },
   "outputs": [],
   "source": [
    "normcurv <- rnorm(2)\n",
    "\n",
    "densnormcurv <- hist(normcurv)\n",
    "\n",
    "plot(densnormcurv)"
   ]
  },
  {
   "cell_type": "markdown",
   "metadata": {
    "deletable": true,
    "editable": true
   },
   "source": [
    "1.2 Resgate de pressupostos para intepretação de distribuições:"
   ]
  },
  {
   "cell_type": "markdown",
   "metadata": {
    "deletable": true,
    "editable": true
   },
   "source": [
    "1.2.1 significado e disposição em conjunto: \n",
    "\n",
    "A distribuição normal é o melhor instrumento para representação aproximada do total (100%) conjunto de uma população."
   ]
  },
  {
   "cell_type": "markdown",
   "metadata": {
    "deletable": true,
    "editable": true
   },
   "source": [
    "1.2.2 disposição em alguma sequencia: \n",
    "\n",
    "A distribuição normal possibilita o sequenciamento em desvios-padrão das médias de qualquer conjunto de dados (independente do seus graus de liberdade/tamanho)."
   ]
  },
  {
   "cell_type": "markdown",
   "metadata": {
    "deletable": true,
    "editable": true
   },
   "source": [
    "1.2.3 aleatoriedade como pressuposto: \n",
    "\n",
    "Para a problematização de fenômenos probabilísticos, esse pressuposto é funtamental."
   ]
  },
  {
   "cell_type": "markdown",
   "metadata": {
    "deletable": true,
    "editable": true
   },
   "source": [
    "1.2.4 variabilidade como pressuposto:\n",
    "\n",
    "Reiterando que a variabilidade ganha em capacidade de mensuração via parâmetros de normalidade (média e variância), diferente de todas as demais distribuições."
   ]
  },
  {
   "cell_type": "markdown",
   "metadata": {
    "deletable": true,
    "editable": true
   },
   "source": [
    "1.2.5 resultados observados E resultados possíveis.\n",
    "\n",
    "Possibilidade de enquadramento em torno da média e da variância de modo a ampliar a capacidade de controle sobre resultados possíveis (espaço amostral)."
   ]
  },
  {
   "cell_type": "markdown",
   "metadata": {
    "deletable": true,
    "editable": true
   },
   "source": [
    "# 2. QQPLOT e Histograma em análise de normalidade"
   ]
  },
  {
   "cell_type": "markdown",
   "metadata": {
    "deletable": true,
    "editable": true
   },
   "source": [
    "2.1 Normalidade \"bonitinha\" de uma simulação"
   ]
  },
  {
   "cell_type": "code",
   "execution_count": null,
   "metadata": {
    "collapsed": false,
    "deletable": true,
    "editable": true
   },
   "outputs": [],
   "source": [
    "# QQ Plot e boxplot: a visualização gráfica matricializada\n",
    "simdf <- rnorm(20)\n",
    "simdf\n",
    "\n",
    "\n",
    "qqPlot(simdf)\n",
    "boxplot(simdf)"
   ]
  },
  {
   "cell_type": "code",
   "execution_count": null,
   "metadata": {
    "collapsed": false,
    "deletable": true,
    "editable": true
   },
   "outputs": [],
   "source": [
    "# Histograma: avalie em desvios padrão e considere o z-score como possibilidade de se visualizar a probabilidade de resultados. \n",
    "hist(simdf)\n",
    "plot(density(simdf))"
   ]
  },
  {
   "cell_type": "markdown",
   "metadata": {
    "deletable": true,
    "editable": true
   },
   "source": [
    "2.2 A normalidade na \"dura realidade dos dados sociais\":  "
   ]
  },
  {
   "cell_type": "markdown",
   "metadata": {
    "deletable": true,
    "editable": true
   },
   "source": [
    "2.2.1 Dados CRUS:"
   ]
  },
  {
   "cell_type": "code",
   "execution_count": null,
   "metadata": {
    "collapsed": false,
    "deletable": true,
    "editable": true
   },
   "outputs": [],
   "source": [
    "df <- read_csv(\"Aula4_conjunto_geral.csv\")\n",
    "\n",
    "df"
   ]
  },
  {
   "cell_type": "code",
   "execution_count": null,
   "metadata": {
    "collapsed": false,
    "deletable": true,
    "editable": true
   },
   "outputs": [],
   "source": [
    "qqPlot(df$Vl_Liberado)\n",
    "boxplot(df$Vl_Liberado)\n",
    "hist(df$Vl_Liberado)\n",
    "plot(density(df$Vl_Liberado))"
   ]
  },
  {
   "cell_type": "markdown",
   "metadata": {
    "deletable": true,
    "editable": true
   },
   "source": [
    "2.2.2 Diante de duas opções [1) fugir para análise não-paramétrica ou 2) normalizar], o que deve ser feito a partir da segunda escolha?\n",
    "\n",
    "\n",
    "Primeiro, organizar o problema:"
   ]
  },
  {
   "cell_type": "markdown",
   "metadata": {
    "collapsed": true,
    "deletable": true,
    "editable": true
   },
   "source": [
    "PERGUNTA: \n",
    "\n",
    "*Há similaridade ou diferença quando comparados os repasses de recursos de TVU entre dois grupos isolados (recursos que vão para o estado de onde ministro É, embora o governador NÃO seja da base aliada, e recursos repassados para estado de onde o ministro NÃO É originário, mas o  governador É de partido aliado)?*\n",
    "\n",
    "HIPÓTESES: \n",
    "\n",
    "H0: os recursos possuem o mesmo padrão de repasse (os repasses são feitos de maneira similar)\n",
    "\n",
    "H1: os recursos não possuem o mesmo padrão de repasse (os repasses não são feitos de maneira similar)\n"
   ]
  },
  {
   "cell_type": "markdown",
   "metadata": {
    "deletable": true,
    "editable": true
   },
   "source": [
    "Depois: normalizar (ou melhor, *padronizar*) em z score [(]outras opções: normalizar com normalização de ranking min-max; normalização com log]:\n"
   ]
  },
  {
   "cell_type": "code",
   "execution_count": null,
   "metadata": {
    "collapsed": false,
    "deletable": true,
    "editable": true
   },
   "outputs": [],
   "source": [
    "df <- df %>% mutate(vl_LiberadoNorm = scale(df$Vl_Liberado))\n"
   ]
  },
  {
   "cell_type": "markdown",
   "metadata": {
    "deletable": true,
    "editable": true
   },
   "source": [
    "Mesmo com normalização, presença de outliers observada em boxplot e qqplot"
   ]
  },
  {
   "cell_type": "code",
   "execution_count": null,
   "metadata": {
    "collapsed": false,
    "deletable": true,
    "editable": true
   },
   "outputs": [],
   "source": [
    "qqPlot(df$vl_LiberadoNorm)\n",
    "boxplot(df$vl_LiberadoNorm)\n",
    "hist(df$vl_LiberadoNorm)\n",
    "plot(density(df$vl_LiberadoNorm))"
   ]
  },
  {
   "cell_type": "markdown",
   "metadata": {
    "deletable": true,
    "editable": true
   },
   "source": [
    "ENTÃO.... exclusão de outliers (remoção de todos os casos que se apresentam como \"pontinhos\" no boxplot).\n",
    "\n",
    "Resultado final:\n",
    "\n"
   ]
  },
  {
   "cell_type": "code",
   "execution_count": null,
   "metadata": {
    "collapsed": false,
    "deletable": true,
    "editable": true
   },
   "outputs": [],
   "source": [
    "df2 <- read_csv(\"Aula4_dados_tratados_sem_outliers.csv\")\n",
    "\n",
    "qqPlot(df2$Vl_Liberado)\n",
    "boxplot(df2$Vl_Liberado)\n",
    "hist(df2$Vl_Liberado)\n",
    "plot(density(df2$Vl_Liberado))\n"
   ]
  },
  {
   "cell_type": "markdown",
   "metadata": {
    "deletable": true,
    "editable": true
   },
   "source": [
    "Importante: mensurar representação da população total (calculadora Survey Monkey é uma saída, https://www.surveymonkey.com/mp/sample-size-calculator/.) \n",
    "\n",
    "Para uma ilustração sobre o \"funcionamento\" da amostragem, observe a função logarítima a seguir. Ela representa uma \"curva de suficiência amostral\" em abstrato. "
   ]
  },
  {
   "cell_type": "code",
   "execution_count": null,
   "metadata": {
    "collapsed": false,
    "deletable": true,
    "editable": true
   },
   "outputs": [],
   "source": [
    "library(\"IRdisplay\")\n",
    "display_png(file=\"Aula4_funcao_log_curva_suficiencia_amostral.png\")\n",
    "\n",
    "# fonte imagem: nucleodoconhecimento.com.br"
   ]
  },
  {
   "cell_type": "markdown",
   "metadata": {
    "deletable": true,
    "editable": true
   },
   "source": [
    "# 3. Características dos testes de Shapiro-Wilk e Kolmogorov-Smirnov"
   ]
  },
  {
   "cell_type": "markdown",
   "metadata": {
    "deletable": true,
    "editable": true
   },
   "source": [
    "SW Se uma variável aleatória ajusta-se à distribuição normal (n inferior a 30); KS para amostras maiores do que as utilizadas para Shapiro-Wilker"
   ]
  },
  {
   "cell_type": "markdown",
   "metadata": {
    "deletable": true,
    "editable": true
   },
   "source": [
    "Estrutura dos testes de hipótese: \n",
    "\n",
    "P/ Shapiro Wilk:\n",
    "H0: segue distribuição normal\n",
    "\n",
    "H1: não segue distribuição normal\n",
    "\n",
    "P/ K-S:\n",
    "H0: não segue distribuição normal\n",
    "\n",
    "H1: segue distribuição normal\n",
    "\n",
    "Testes avaliam a partir da variância (SW) ou amplitude de probabilidade (KS) e verificam na estatística deles se distribuem normalmente (ou não). Em geral, recomenda-se o uso de SW (mais sofisticado, porém somente tem eficacia quando utilizado em pequenas amostras)."
   ]
  },
  {
   "cell_type": "markdown",
   "metadata": {
    "deletable": true,
    "editable": true
   },
   "source": [
    "3.1 Exemplo com simulação:"
   ]
  },
  {
   "cell_type": "code",
   "execution_count": null,
   "metadata": {
    "collapsed": false,
    "deletable": true,
    "editable": true
   },
   "outputs": [],
   "source": [
    "y <- runif(20)\n",
    "ks.test(simdf, y)\n",
    "\n",
    "shapiro.test(simdf)"
   ]
  },
  {
   "cell_type": "markdown",
   "metadata": {
    "deletable": true,
    "editable": true
   },
   "source": [
    "3.1 Exemplo com dados utilizados no trabalho:"
   ]
  },
  {
   "cell_type": "code",
   "execution_count": null,
   "metadata": {
    "collapsed": false,
    "deletable": true,
    "editable": true
   },
   "outputs": [],
   "source": [
    "y <- runif(1291)\n",
    "ks.test(df2$Vl_Liberado, y)\n",
    "\n",
    "shapiro.test(df$vl_LiberadoNorm)\n"
   ]
  },
  {
   "cell_type": "code",
   "execution_count": null,
   "metadata": {
    "collapsed": true,
    "deletable": true,
    "editable": true
   },
   "outputs": [],
   "source": []
  }
 ],
 "metadata": {
  "kernelspec": {
   "display_name": "R",
   "language": "R",
   "name": "ir"
  },
  "language_info": {
   "codemirror_mode": "r",
   "file_extension": ".r",
   "mimetype": "text/x-r-source",
   "name": "R",
   "pygments_lexer": "r",
   "version": "3.3.3"
  }
 },
 "nbformat": 4,
 "nbformat_minor": 2
}
