{
 "cells": [
  {
   "cell_type": "markdown",
   "metadata": {
    "deletable": true,
    "editable": true
   },
   "source": [
    "# Aula9_reducao_dimensionalidade_ACP_ACM"
   ]
  },
  {
   "cell_type": "code",
   "execution_count": null,
   "metadata": {
    "collapsed": false
   },
   "outputs": [],
   "source": [
    "library(tidyverse)\n",
    "library(FactoMineR)\n",
    "library(stats)\n",
    "library(scatterplot3d)\n",
    "library(IRdisplay)"
   ]
  },
  {
   "cell_type": "markdown",
   "metadata": {},
   "source": [
    "#### O conceito: o fundamento em algebra linear e as três categorias de análises que abordaremos nas próximas aulas"
   ]
  },
  {
   "cell_type": "code",
   "execution_count": null,
   "metadata": {
    "collapsed": false
   },
   "outputs": [],
   "source": [
    "display_png(file=\"Aula9_example_dimensional_reduction.png\")\n",
    "print(\"fonte: https://medium.com/free-code-camp/an-overview-of-principal-component-analysis-6340e3bc4073\")\n",
    "display_png(file=\"Aula9_machine_learning_influence.png\")\n",
    "print(\"fonte: https://www.datasciencecentral.com/profiles/blogs/machine-learning-summarized-in-one-picture\")"
   ]
  },
  {
   "cell_type": "markdown",
   "metadata": {},
   "source": [
    "#### Para mais noções acerca do conceito, abra no seu computador agora essa página de ilustração para conversarmos a respeito:"
   ]
  },
  {
   "cell_type": "markdown",
   "metadata": {},
   "source": [
    "https://dododas.github.io/linear-algebra-with-python/posts/16-12-29-2d-transformations.html"
   ]
  },
  {
   "cell_type": "markdown",
   "metadata": {
    "deletable": true,
    "editable": true
   },
   "source": [
    "### Análises de Correspondência Múltipla e Análises de Componentes Principais: aspectos fundamentais.  "
   ]
  },
  {
   "cell_type": "markdown",
   "metadata": {
    "deletable": true,
    "editable": true
   },
   "source": [
    "\n",
    "Ambas análises são voltadas para percepção de interdependências entre as variáveis. Ambas possuem foco sobre a covariância do conjunto dos dados (em relação a um centróide adquirido após transformações lineares).\n",
    "\n",
    "\n",
    "Sequencia de passos:\n",
    "- 1º Busca-se o centro dos dados: xi,a =  xi,a – μ;\n",
    "- 2º computa-se a covariância da matriz (soma das distâncias dos quadrados, para se chegar ao eigenvalue/autovalor);\n",
    "- 3º recolhe-se as dimensões com maiores cargas de autovalores (que possuem as maiores (co)variâncias explicadas do conjunto dos valores) para análise detalhada;\n",
    "- 4º para análises mais detalhadas, observa-se as contribuições das variáveis para cada dimensão e \"vasculha-se\" as especificidades de variável e dimensão;\n",
    "- 5º analisa-se o conjunto das dispersões das variáveis em relação ao centróide e observa-se suas interdependências.\n"
   ]
  },
  {
   "cell_type": "markdown",
   "metadata": {
    "collapsed": true,
    "deletable": true,
    "editable": true
   },
   "source": [
    "Em suma: ACP/ACM reduz dimensionalidade para se analisar a covariância (pergunta respondida por ACP/ACM: quais as variáveis com maior variação em relação ao conjunto dos dados/centróide?)"
   ]
  },
  {
   "cell_type": "markdown",
   "metadata": {
    "collapsed": true,
    "deletable": true,
    "editable": true
   },
   "source": [
    "### Exemplo com ACM"
   ]
  },
  {
   "cell_type": "markdown",
   "metadata": {
    "collapsed": true,
    "deletable": true,
    "editable": true
   },
   "source": [
    "Amostra de 57 casos de nomeações para secretarias do Ministério da Agricultura, Pecuária e Abastecimento (MAPA) entre 1995 e 2018.\n",
    "\n",
    "Problema de investigação exploratória: dimensões difusas de impactos Estado-sociedade em relação às nomeações no MAPA (pergunta: quais aspectos societais relacionam-se com a ocupação de cargos no MAPA?)\n",
    "\n",
    "6 variáveis interdependentes sob análise:\n",
    "\n",
    "- Se o(a) nomeado(a) possuiu circulação por alguma organização patronal rural previamente à nomeação (duas categorias: 'patronal' ou 'nao' -- recod: 'Patr', 'ñPatr');\n",
    "- qual o partido no governo no momento da nomeação (três categorias: 'PSDB', 'PT' ou 'PMDB');\n",
    "- se o(a) nomeado(a) possuía filiação partidária no momento da nomeação (duas categorias'sim' e 'nao' -- recod: 'Part', 'ñPart');\n",
    "- nível de formação do(a) nomeado(a) (três categorias: 'ensino_medio', 'graduacao_ou_especializacao' e 'mestrado_ou_doutorado'  -- recod: 'edEM', 'edGouE' e 'edMouD');\n",
    "- tipo de secretaria que acolheu a nomeação (duas categorias: 'execucao_de_pol_pub' 'planejamento_estrategico' -- recod: 'tsExPPub', 'tsPlEs');\n",
    "- perfil de carreira profissional prévia à nomeação (quatro categorias: 'Burocrata_outsider', 'Mercado', 'Burocrata_insider' e 'Academia' -- recod: 'BuIn', 'Merc', 'BuOu', 'Acad')."
   ]
  },
  {
   "cell_type": "code",
   "execution_count": null,
   "metadata": {
    "collapsed": false,
    "deletable": true,
    "editable": true
   },
   "outputs": [],
   "source": [
    "df <- read_csv(\"Aula9_reducao_dimensionalidade_ACM.csv\")\n",
    "\n",
    "\n",
    "\n",
    "unique(df$circulacao_organizacional_externa_patronal_sindical_ou_organismo)\n",
    "unique(df$partido_nom)\n",
    "unique(df$filiacao_partidaria)\n",
    "unique(df$nivel_escolaridade)\n",
    "unique(df$tipo_de_secretaria)\n",
    "unique(df$emprego_cargo_instituicao_trajet_pre_resumido2)\n",
    "nrow(df)\n",
    "df"
   ]
  },
  {
   "cell_type": "markdown",
   "metadata": {
    "deletable": true,
    "editable": true
   },
   "source": [
    "#### Estruturação da Análise de Correspondência Múltipla (processamento de redução de dimensionalidade):"
   ]
  },
  {
   "cell_type": "code",
   "execution_count": null,
   "metadata": {
    "collapsed": false,
    "deletable": true,
    "editable": true
   },
   "outputs": [],
   "source": [
    "acm <- data.frame(df$circulacao_organizacional_externa_patronal_sindical_ou_organismo,\n",
    "df$filiacao_partidaria,\n",
    "df$partido_nom , df$nivel_escolaridade,\n",
    "df$tipo_de_secretaria,\n",
    "df$emprego_cargo_instituicao_trajet_pre_resumido2)\n",
    "\n",
    "result <- MCA(acm, ncp = 10, ind.sup = 1, quanti.sup = NULL, \n",
    "               quali.sup = NULL, excl=NULL, graph = TRUE, \n",
    "               level.ventil = 0, axes = c(1,2), row.w = NULL, \n",
    "               method=\"Indicator\", na.method=\"NA\", tab.disj=NULL)\n",
    "result\n"
   ]
  },
  {
   "cell_type": "markdown",
   "metadata": {
    "deletable": true,
    "editable": true
   },
   "source": [
    "##### Banco proveniente da redução de dimensionalidade e análise das contribuições das categorias (agora variáveis) para cada uma das dimensões -- quando MAIS ALTO O VALOR DE CONTRIBUIÇÃO, MAIS ASSOCIADA A VARIÁVEL/CATEGORIA À DIMENSÃO (importante para análise de quem busca detalhar aspectos relativos de variável):"
   ]
  },
  {
   "cell_type": "code",
   "execution_count": null,
   "metadata": {
    "collapsed": false,
    "deletable": true,
    "editable": true
   },
   "outputs": [],
   "source": [
    "dfacm <- as.data.frame(result$var$coord)\n",
    "dfacm\n",
    "\n",
    "contribuicoes_var <- as.data.frame(result$var$contrib)\n",
    "contribuicoes_var"
   ]
  },
  {
   "cell_type": "markdown",
   "metadata": {
    "deletable": true,
    "editable": true
   },
   "source": [
    "#### 2. Avaliação de Elbow Plot: quando menos dimensões contemplar, melhor o ajuste sobre os valores individuais (porém menor o percentual de variância explicada)"
   ]
  },
  {
   "cell_type": "code",
   "execution_count": null,
   "metadata": {
    "collapsed": false,
    "deletable": true,
    "editable": true
   },
   "outputs": [],
   "source": [
    "an_var_autovalores <- as.data.frame(result$eig)\n",
    "colnames(an_var_autovalores)[1] <- \"autovalores\"\n",
    "colnames(an_var_autovalores)[2] <- \"porcent_variancia\"\n",
    "colnames(an_var_autovalores)[3] <- \"porcent_acum_variancia\"\n",
    "an_var_autovalores\n",
    "\n",
    "barplot(height=an_var_autovalores$porcent_variancia, names=rownames(an_var_autovalores), \n",
    "        xlab=\"dimensões\", \n",
    "        ylab=\"% de variância explicada\", \n",
    "        main=\"Elbow Plot: (co)variancias explicadas\", \n",
    "        ylim=c(0,25)\n",
    "        )"
   ]
  },
  {
   "cell_type": "markdown",
   "metadata": {
    "deletable": true,
    "editable": true
   },
   "source": [
    "#### 3. Análise das dispersões das variáveis  e suas interdependências (oito dimensões com impacto sobre o conjunto dos dados):"
   ]
  },
  {
   "cell_type": "code",
   "execution_count": null,
   "metadata": {
    "collapsed": false,
    "deletable": true,
    "editable": true
   },
   "outputs": [],
   "source": [
    "dfacmplot <- as.data.frame(dfacm)\n",
    "labels <- c('ñPatr', 'Patr', 'ñPart', 'Part', 'govPMDB', 'govPSDB', 'govPT', 'edEM', 'edGouE', 'edMouD', 'tsExPPub', 'tsPlEs', \n",
    "           'Acad', 'BuIn', 'BuOu', 'Merc')\n",
    "dfacmplot\n",
    "\n",
    "colnames(dfacmplot)[1] <- \"Dim_1\"\n",
    "colnames(dfacmplot)[2] <- \"Dim_2\"\n",
    "colnames(dfacmplot)[3] <- \"Dim_3\"\n",
    "colnames(dfacmplot)[4] <- \"Dim_4\"\n",
    "colnames(dfacmplot)[5] <- \"Dim_5\"\n",
    "colnames(dfacmplot)[6] <- \"Dim_6\"\n",
    "colnames(dfacmplot)[7] <- \"Dim_7\"\n",
    "colnames(dfacmplot)[8] <- \"Dim_8\"\n",
    "\n",
    "plot(dfacmplot$Dim_1, dfacmplot$Dim_2, main= \"Impactos Estado-sociedade em relação às nomeações no MAPA\", col=\"lightblue\", pch=19, cex=2)\n",
    "text(dfacmplot$Dim_1, dfacmplot$Dim_2, labels=labels, cex= 1)"
   ]
  },
  {
   "cell_type": "markdown",
   "metadata": {
    "deletable": true,
    "editable": true
   },
   "source": [
    "#### Gráfico em 3d para se ter noção da redução de dimensionalidade:"
   ]
  },
  {
   "cell_type": "code",
   "execution_count": null,
   "metadata": {
    "collapsed": false,
    "deletable": true,
    "editable": true
   },
   "outputs": [],
   "source": [
    "scatterplot3d(dfacmplot$Dim_1, dfacmplot$Dim_3, dfacmplot$Dim_2, main= \"Análise de nomeações para o MAPA (1995-2018)\", , pch = 16, color=\"steelblue\")\n",
    "text(dfacmplot$Dim_1, dfacmplot$Dim_3, dfacmplot$Dim_2, labels = labels,\n",
    "     cex= 0.5, col = \"steelblue\")"
   ]
  },
  {
   "cell_type": "markdown",
   "metadata": {
    "deletable": true,
    "editable": true
   },
   "source": [
    "É possível perceber que a variável ACADEMIA é demasiadamente discrepante. É possível fazer a sua retirada para melhorar o gráfico (\"perder informação para ganhar precisão\"). Para isso, é necessário checar também qual é a dimensão na qual ele mais contribui para a variância e retirá-la também -- pós-checagem, verificou-se ser a dimensão 5). Let's go..."
   ]
  },
  {
   "cell_type": "code",
   "execution_count": null,
   "metadata": {
    "collapsed": false,
    "deletable": true,
    "editable": true
   },
   "outputs": [],
   "source": [
    "dfacmplot <- as.data.frame(dfacm[-c(13),])\n",
    "labels <- c('ñPatr', 'Patr', 'ñPart', 'Part', 'govPMDB', 'govPSDB', 'govPT', 'edEM', 'edGouE', 'edMouD', 'tsExPPub', 'tsPlEs', \n",
    "            'BuIn', 'BuOu', 'Merc')\n",
    "dfacmplot\n",
    "\n",
    "colnames(dfacmplot)[1] <- \"Dim_1\"\n",
    "colnames(dfacmplot)[2] <- \"Dim_2\"\n",
    "colnames(dfacmplot)[3] <- \"Dim_3\"\n",
    "colnames(dfacmplot)[4] <- \"Dim_4\"\n",
    "colnames(dfacmplot)[6] <- \"Dim_6\"\n",
    "colnames(dfacmplot)[7] <- \"Dim_7\"\n",
    "colnames(dfacmplot)[8] <- \"Dim_8\"\n",
    "\n",
    "plot(dfacmplot$Dim_1, dfacmplot$Dim_2, main= \"Impactos Estado-sociedade em relação às nomeações no MAPA\", col=\"lightblue\", pch=19, cex=2)\n",
    "text(dfacmplot$Dim_1, dfacmplot$Dim_2, labels=labels, cex= 1)"
   ]
  },
  {
   "cell_type": "code",
   "execution_count": null,
   "metadata": {
    "collapsed": true,
    "deletable": true,
    "editable": true
   },
   "outputs": [],
   "source": []
  }
 ],
 "metadata": {
  "kernelspec": {
   "display_name": "R",
   "language": "R",
   "name": "ir"
  },
  "language_info": {
   "codemirror_mode": "r",
   "file_extension": ".r",
   "mimetype": "text/x-r-source",
   "name": "R",
   "pygments_lexer": "r",
   "version": "3.3.3"
  }
 },
 "nbformat": 4,
 "nbformat_minor": 2
}
