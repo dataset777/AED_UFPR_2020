{
 "cells": [
  {
   "cell_type": "markdown",
   "metadata": {
    "deletable": true,
    "editable": true
   },
   "source": [
    "# Aula11_analise_hierarquica_dendrograma_mapas_de_calor\n"
   ]
  },
  {
   "cell_type": "markdown",
   "metadata": {
    "deletable": true,
    "editable": true
   },
   "source": [
    "Análises de dendrogramas e mapas de calor efetuam agrupamentos hierarquicos (clusters ou classes) sobre dados quantitativos -- clusters são formados por similaridade (descubre-se qual caso/variável se assemelha mais com o outro; descobrindo a similaridade, fundem-se em clusters). Caso a variável esteja em formato categórico em relação aos indivíduos/casos, deve-se realizar redefinição de casos a partir de uma das variáveis do banco de dados e criar uma tabela cruzada para que se possibilite a análise. A finalidade dessas análises é parear variáveis e casos para definir quais são os que possuem maior verossimilhança.\n",
    "\n",
    "\n",
    "Passos para realização de interpretações em análises hierárquicas via dendrogramas e mapas de calor:\n",
    "\n",
    "\n",
    "1) Observar se os casos estão adequados para a realização das análises; caso os dados estejam muito dispersos ou hajam casos extremos, necessita-se de uma padronização (uma forma indicada é a utilização de z-score);\n",
    "\n",
    "2) após padronização (caso tenha sido necessário), agrupa-se clusters formados por similaridade;\n",
    "\n",
    "3) as duas técnicas de análise de distância entre clusters são 1) distância euclidiana e 2) manhattan (ambas são arbitrariamente escolhidas e muito parecidas em seus algoritmos, recomenda-se fazer uso das duas e observar qual dá maior suporte às interpretações);\n",
    "\n",
    "4) com todos os agrupamentos feitos, a melhor forma de observá-los se dá por meio da altura dos galhos no dendrograma;\n",
    "\n",
    "5) a partir do momento em que se agrupa conjuntos similares e forma-se clusters, deve-se observar com quais outros (clusters) ele deve ser comparado (interpretação: dos primeiros casos aos últimos; dos casos mais distantes aos mais próximos; dos que formaram blocos-padrão; dos que demonstraram idiosincrasias e são dessemelhantes em relação aos demais);  \n",
    "\n",
    "6) a definição de K (clusters/classes) em dendrogramas pode ser realizada por meio de alguns comandos, mas geralmente a ideia do dendrograma é fazer um rastreamento de todas as ramificações possíveis de um conjunto de dados (ou seja, poder-se observar quais são os agrupamentos que se formam e não delimitar quanto o pesquisador quer, como é o caso dos K-Means, que serão vistos na próxima aula)."
   ]
  },
  {
   "cell_type": "code",
   "execution_count": null,
   "metadata": {
    "collapsed": false,
    "deletable": true,
    "editable": true
   },
   "outputs": [],
   "source": [
    "library(tidyverse)"
   ]
  },
  {
   "cell_type": "markdown",
   "metadata": {
    "deletable": true,
    "editable": true
   },
   "source": [
    "#### Primeiro caso: fragmento de banco de dados sobre prefeitos eleitos em 2016  "
   ]
  },
  {
   "cell_type": "markdown",
   "metadata": {
    "deletable": true,
    "editable": true
   },
   "source": [
    "Banco de dados: "
   ]
  },
  {
   "cell_type": "code",
   "execution_count": null,
   "metadata": {
    "collapsed": false,
    "deletable": true,
    "editable": true
   },
   "outputs": [],
   "source": [
    "df <- read_csv(\"Aula11_analise_hierarq_prefeitos.csv\")\n",
    "\n",
    "df"
   ]
  },
  {
   "cell_type": "markdown",
   "metadata": {
    "deletable": true,
    "editable": true
   },
   "source": [
    "Visto que o banco de dados é categórico e se quer realizar uma análise hierárquica, é necessário fazer um redesenho da análise ou abrir mão do método. \n",
    "\n",
    "Solução: refefinir as variáveis a partir das categorias e fazer uma tabela cruzada para agrupar: \n",
    "\n",
    "- Variável dependente: Ideologia Partidária\n",
    "- Váriáveis independentes: percentuais de 1) Classe da Cidade, 2) Região Geoeconômica do IBGE e 3) Escolaridade em cada categoria de ideologia partidária.\n",
    "\n",
    "Assim sendo, proporções de categorias ideológicas por em cada categoria das variáveis independentes:"
   ]
  },
  {
   "cell_type": "code",
   "execution_count": null,
   "metadata": {
    "collapsed": false,
    "deletable": true,
    "editable": true
   },
   "outputs": [],
   "source": [
    "dfprop <- read_csv(\"Aula11_analise_hierarq_prefeitos_matriz_var_dep_indep.csv\")\n",
    "dfprop"
   ]
  },
  {
   "cell_type": "code",
   "execution_count": null,
   "metadata": {
    "collapsed": false,
    "deletable": true,
    "editable": true
   },
   "outputs": [],
   "source": [
    "# Clusterização Hierárquica com distancia manhattan e metodo Ward \n",
    "\n",
    "# matriz de distância\n",
    "d <- dist(dfprop, method = \"manhattan\") \n",
    "fit <- hclust(d, method=\"average\")\n",
    "\n",
    "#Gráfico\n",
    "plot(fit) \n",
    "\n",
    "# definição de 4 clusters\n",
    "groups <- cutree(fit, k=4) \n",
    "\n",
    "# opcional: delimitação de 4 clusters em vermelho (base de origem)\n",
    "rect.hclust(fit, k=4, border=\"red\")"
   ]
  },
  {
   "cell_type": "code",
   "execution_count": null,
   "metadata": {
    "collapsed": false,
    "deletable": true,
    "editable": true
   },
   "outputs": [],
   "source": [
    "# Clusterização Hierárquica com distancia euclidiana e metodo médio\n",
    "\n",
    "# matriz de distância\n",
    "d <- dist(dfprop, method = \"euclidian\") \n",
    "fit <- hclust(d, method=\"average\")\n",
    "\n",
    "#Gráfico\n",
    "plot(fit) \n",
    "\n",
    "# definição de 4 clusters\n",
    "groups <- cutree(fit, k=4) \n",
    "\n",
    "# opcional: delimitação de 4 clusters em vermelho (base de origem)\n",
    "\n",
    "rect.hclust(fit, k=4, border=\"red\")"
   ]
  },
  {
   "cell_type": "markdown",
   "metadata": {},
   "source": [
    "A principal característica da distância Manhatann é ser proveniente de uma soma da diferença entre todas as distâncias das variáveis, e enquanto a distância euclidiana busca apresentar as distâncias mais simples entre as variáveis após a diagonalização -- entre quem trabalha com sistematização de redes neurais, há avaliação de que a distância euclidiana promove menos distorções (Medrano-Marques & Delbrio 1999). Ela é recomendável também por ser mais simples e direta na exposição de como os dados irão se hierarquizar. Contudo, recomenda-se em AED a utilização das duas, para fins de comparação e avaliação do melhor diagnóstico."
   ]
  },
  {
   "cell_type": "markdown",
   "metadata": {
    "deletable": true,
    "editable": true
   },
   "source": [
    "### Mapa de Calor \n"
   ]
  },
  {
   "cell_type": "markdown",
   "metadata": {
    "deletable": true,
    "editable": true
   },
   "source": [
    "Análise de padrões em ministérios econômicos brasileiros. \n",
    "\n",
    "Casos: \n",
    "\n",
    "- nomeações. \n",
    "\n",
    "\n",
    "\n",
    "Variáveis: \n",
    "\n",
    "a) meses de permanência em secretaria; \n",
    "\n",
    "b) meses de permanência de ministro na pasta da nomeação;\n",
    "\n",
    "c) idade do(a) nomeado(a);\n",
    "\n",
    "d) tempo de carreira prévio (t1: ano de saída da graduação (ou ensino médio aos s/g); t2: ano da nomeação)."
   ]
  },
  {
   "cell_type": "code",
   "execution_count": null,
   "metadata": {
    "collapsed": false,
    "deletable": true,
    "editable": true
   },
   "outputs": [],
   "source": [
    "df2 <- read_csv(\"Aula11_analise_hierarq.csv\")\n",
    "df2\n",
    "\n",
    "n.row(df2)\n",
    "\n",
    "andf2 <- as.matrix(df2) \n",
    "\n",
    "heatmap(andf2)"
   ]
  },
  {
   "cell_type": "markdown",
   "metadata": {
    "deletable": true,
    "editable": true
   },
   "source": [
    "Resultados: observa-se no mapa de calor a independência entre a variável \"tempo de permanência do ministro\" e as demais.\n",
    "\"Idade\" demonstrou independência em relação às outras duas: \"tempo de permanência e \"tempo previo de carreira\""
   ]
  },
  {
   "cell_type": "markdown",
   "metadata": {
    "deletable": true,
    "editable": true
   },
   "source": [
    "##### Mapa de calor sobre os padrões ideológicos de prefeitos eleitos no Brasil: "
   ]
  },
  {
   "cell_type": "code",
   "execution_count": null,
   "metadata": {
    "collapsed": false,
    "deletable": true,
    "editable": true
   },
   "outputs": [],
   "source": [
    "andf3 <- as.matrix(dfprop[,2:10]) \n",
    "\n",
    "heatmap(andf3)"
   ]
  },
  {
   "cell_type": "code",
   "execution_count": null,
   "metadata": {
    "collapsed": true
   },
   "outputs": [],
   "source": []
  }
 ],
 "metadata": {
  "kernelspec": {
   "display_name": "R",
   "language": "R",
   "name": "ir"
  },
  "language_info": {
   "codemirror_mode": "r",
   "file_extension": ".r",
   "mimetype": "text/x-r-source",
   "name": "R",
   "pygments_lexer": "r",
   "version": "3.3.3"
  }
 },
 "nbformat": 4,
 "nbformat_minor": 2
}
