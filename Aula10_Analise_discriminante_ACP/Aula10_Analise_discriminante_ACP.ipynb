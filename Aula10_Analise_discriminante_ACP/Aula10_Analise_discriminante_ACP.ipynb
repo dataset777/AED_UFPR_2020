{
 "cells": [
  {
   "cell_type": "markdown",
   "metadata": {
    "deletable": true,
    "editable": true
   },
   "source": [
    "# Aula11_Analise_discriminante_e_ACP"
   ]
  },
  {
   "cell_type": "markdown",
   "metadata": {
    "deletable": true,
    "editable": true
   },
   "source": [
    "- É similar à ACP/ACM (baseada em redução de dimensionalidade), mas se difere por maximizar a separação entre as categorias (que se agrupam ao traçar-se uma ou mais linhas divisórias médias).\n",
    "\n",
    "- ACP reduz dimensionalidade para se analisar a covariância (pergunta respondida por ACP: quais as variáveis com maior variação em relação ao conjunto dos dados/centróide?); ALD reduz dimensionalidade para se analisar variância entre as categorias (pergunta respondida por ALD: qual a distância estabelecida entre uma variável em relação à outra variável?)\n",
    "\n",
    "- ALD supõe NORMALIDADE, diferente da ACP."
   ]
  },
  {
   "cell_type": "markdown",
   "metadata": {
    "deletable": true,
    "editable": true
   },
   "source": [
    "#### FÓRMULA"
   ]
  },
  {
   "cell_type": "markdown",
   "metadata": {
    "deletable": true,
    "editable": true
   },
   "source": [
    "LDA = máxima variância entre as categorias calculadas com razão de μcategoria1 (média da categoria 1) menos μcategoria2 (média da categoria 2) ao quadrado por variância da categoria1  mais variância da categoria2 .\n",
    "\n",
    "\n",
    "LDA =   (μcategoria1 - μcategoria2)^2 \n",
    "         /\n",
    "        (variância da categoria 1 + variância da categoria 2) "
   ]
  },
  {
   "cell_type": "code",
   "execution_count": null,
   "metadata": {
    "collapsed": false,
    "deletable": true,
    "editable": true
   },
   "outputs": [],
   "source": [
    "library(tidyverse)\n",
    "library(FactoMineR)\n",
    "library(caret)\n",
    "library(MASS)\n",
    "library(stats)\n",
    "library(IRdisplay)"
   ]
  },
  {
   "cell_type": "code",
   "execution_count": null,
   "metadata": {
    "collapsed": false,
    "deletable": true,
    "editable": true
   },
   "outputs": [],
   "source": [
    "df <- read_csv(\"Aula10_analise_discrimin.csv\")\n",
    "df"
   ]
  },
  {
   "cell_type": "markdown",
   "metadata": {
    "deletable": true,
    "editable": true
   },
   "source": [
    "#### TREINANDO AS VARIÁVEIS"
   ]
  },
  {
   "cell_type": "code",
   "execution_count": null,
   "metadata": {
    "collapsed": false,
    "deletable": true,
    "editable": true
   },
   "outputs": [],
   "source": [
    "set.seed(123)\n",
    "training.samples <- df$status_sec %>%\n",
    "  createDataPartition(p = 0.8, list = FALSE)\n",
    "train.data <- df[training.samples, ]\n",
    "test.data <- df[-training.samples, ]\n",
    "\n",
    "training.samples\n",
    "\n",
    "train.data\n",
    "\n",
    "test.data"
   ]
  },
  {
   "cell_type": "markdown",
   "metadata": {
    "deletable": true,
    "editable": true
   },
   "source": [
    "\n",
    "\n",
    "#### PRÉ-PROCESSAMENTO DOS PARÂMETROS E NORMALIZANDO OS DADOS"
   ]
  },
  {
   "cell_type": "code",
   "execution_count": null,
   "metadata": {
    "collapsed": false,
    "deletable": true,
    "editable": true
   },
   "outputs": [],
   "source": [
    "preproc.param <- train.data %>% \n",
    "  preProcess(method = c(\"center\", \"scale\"))\n",
    "\n",
    "train.transformed <- preproc.param %>% predict(train.data)\n",
    "\n",
    "test.transformed <- preproc.param %>% predict(test.data)\n",
    "\n",
    "preproc.param\n",
    "\n",
    "train.transformed\n",
    "\n",
    "test.transformed"
   ]
  },
  {
   "cell_type": "markdown",
   "metadata": {
    "deletable": true,
    "editable": true
   },
   "source": [
    "### LDA DE FATO!!!"
   ]
  },
  {
   "cell_type": "markdown",
   "metadata": {
    "deletable": true,
    "editable": true
   },
   "source": [
    "1. AJUSTE DE MODELO\n",
    "2. PRODUÇÃO DE PREDITORES\n",
    "3. ACURÁCIA DO MODELO\n"
   ]
  },
  {
   "cell_type": "markdown",
   "metadata": {
    "deletable": true,
    "editable": true
   },
   "source": [
    "#### 1. AJUSTE DE MODELO"
   ]
  },
  {
   "cell_type": "code",
   "execution_count": null,
   "metadata": {
    "collapsed": false,
    "deletable": true,
    "editable": true
   },
   "outputs": [],
   "source": [
    "modelo <- lda(status_sec~., data = train.transformed)\n",
    "modelo\n",
    "plot(modelo)"
   ]
  },
  {
   "cell_type": "markdown",
   "metadata": {
    "deletable": true,
    "editable": true
   },
   "source": [
    "#### 2. PRODUÇÃO DE PREDITORES"
   ]
  },
  {
   "cell_type": "code",
   "execution_count": null,
   "metadata": {
    "collapsed": false,
    "deletable": true,
    "editable": true
   },
   "outputs": [],
   "source": [
    "predictions <- modelo %>% predict(test.transformed)\n",
    "names(predictions)\n",
    "head(predictions$class, 6)\n",
    "head(predictions$posterior, 6)\n",
    "head(predictions$x, 3) "
   ]
  },
  {
   "cell_type": "markdown",
   "metadata": {
    "deletable": true,
    "editable": true
   },
   "source": [
    "#### 3. ACURÁCIA DO MODELO"
   ]
  },
  {
   "cell_type": "code",
   "execution_count": null,
   "metadata": {
    "collapsed": false,
    "deletable": true,
    "editable": true
   },
   "outputs": [],
   "source": [
    "mean(predictions$class==test.transformed$status_sec)"
   ]
  },
  {
   "cell_type": "markdown",
   "metadata": {
    "deletable": true,
    "editable": true
   },
   "source": [
    "#### 4. GRÁFICO"
   ]
  },
  {
   "cell_type": "code",
   "execution_count": null,
   "metadata": {
    "collapsed": false,
    "deletable": true,
    "editable": true
   },
   "outputs": [],
   "source": [
    "lda.data <- cbind(train.transformed, predict(modelo)$x)\n",
    "ggplot(lda.data, aes(LD1, LD2)) +\n",
    "  geom_point(aes(color = status_sec))"
   ]
  },
  {
   "cell_type": "markdown",
   "metadata": {
    "collapsed": true,
    "deletable": true,
    "editable": true
   },
   "source": [
    "### COMPARAÇÃO COM O ACP:"
   ]
  },
  {
   "cell_type": "code",
   "execution_count": null,
   "metadata": {
    "collapsed": false,
    "deletable": true,
    "editable": true
   },
   "outputs": [],
   "source": [
    "matacp <- df[, 3:6]\n",
    "labacp <- df[, 2]\n",
    "analacp <- prcomp(matacp,\n",
    "                 center = TRUE,\n",
    "                 scale. = TRUE)\n",
    "\n",
    "print(analacp)"
   ]
  },
  {
   "cell_type": "markdown",
   "metadata": {
    "deletable": true,
    "editable": true
   },
   "source": [
    "Observação sobre as dimensões. Quais contribuem mais para var expl:"
   ]
  },
  {
   "cell_type": "code",
   "execution_count": null,
   "metadata": {
    "collapsed": false,
    "deletable": true,
    "editable": true
   },
   "outputs": [],
   "source": [
    "plot(analacp, type = \"l\")\n",
    "summary(analacp)"
   ]
  },
  {
   "cell_type": "markdown",
   "metadata": {
    "collapsed": false,
    "deletable": true,
    "editable": true
   },
   "source": [
    "Por fim, comparação dos resultados com a LDA em gráfico:"
   ]
  },
  {
   "cell_type": "code",
   "execution_count": null,
   "metadata": {
    "collapsed": false,
    "deletable": true,
    "editable": true
   },
   "outputs": [],
   "source": [
    "display_png(file=\"Aula10_resultado_graf_ACP.png\")"
   ]
  },
  {
   "cell_type": "code",
   "execution_count": null,
   "metadata": {
    "collapsed": true
   },
   "outputs": [],
   "source": []
  }
 ],
 "metadata": {
  "kernelspec": {
   "display_name": "R",
   "language": "R",
   "name": "ir"
  },
  "language_info": {
   "codemirror_mode": "r",
   "file_extension": ".r",
   "mimetype": "text/x-r-source",
   "name": "R",
   "pygments_lexer": "r",
   "version": "3.3.3"
  }
 },
 "nbformat": 4,
 "nbformat_minor": 2
}
